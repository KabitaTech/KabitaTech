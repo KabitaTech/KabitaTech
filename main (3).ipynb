{
 "cells": [
  {
   "cell_type": "markdown",
   "id": "c26ff7b2",
   "metadata": {},
   "source": [
    "# import necessary libary"
   ]
  },
  {
   "cell_type": "code",
   "execution_count": 1,
   "id": "e6123f7f",
   "metadata": {},
   "outputs": [],
   "source": [
    "import math\n",
    "import pandas as pd\n",
    "import numpy as np\n",
    "import matplotlib.pyplot as plt\n",
    "from sklearn.preprocessing import MinMaxScaler\n",
    "from sklearn.model_selection import train_test_split"
   ]
  },
  {
   "cell_type": "markdown",
   "id": "9108e5e5",
   "metadata": {},
   "source": [
    "# Dataset "
   ]
  },
  {
   "cell_type": "code",
   "execution_count": 2,
   "id": "13d83be2",
   "metadata": {},
   "outputs": [
    {
     "data": {
      "text/html": [
       "<div>\n",
       "<style scoped>\n",
       "    .dataframe tbody tr th:only-of-type {\n",
       "        vertical-align: middle;\n",
       "    }\n",
       "\n",
       "    .dataframe tbody tr th {\n",
       "        vertical-align: top;\n",
       "    }\n",
       "\n",
       "    .dataframe thead th {\n",
       "        text-align: right;\n",
       "    }\n",
       "</style>\n",
       "<table border=\"1\" class=\"dataframe\">\n",
       "  <thead>\n",
       "    <tr style=\"text-align: right;\">\n",
       "      <th></th>\n",
       "      <th>Year</th>\n",
       "      <th>Average\\nClosing Price</th>\n",
       "      <th>Year Open</th>\n",
       "      <th>Year High</th>\n",
       "      <th>Year Low</th>\n",
       "      <th>Year Close</th>\n",
       "      <th>Annual%Change</th>\n",
       "    </tr>\n",
       "  </thead>\n",
       "  <tbody>\n",
       "    <tr>\n",
       "      <th>0</th>\n",
       "      <td>2022</td>\n",
       "      <td>$0.7311</td>\n",
       "      <td>$0.5642</td>\n",
       "      <td>$0.8820</td>\n",
       "      <td>$0.5642</td>\n",
       "      <td>$0.7012</td>\n",
       "      <td>24.15%</td>\n",
       "    </tr>\n",
       "    <tr>\n",
       "      <th>1</th>\n",
       "      <td>2021</td>\n",
       "      <td>$0.5775</td>\n",
       "      <td>$0.4213</td>\n",
       "      <td>$0.7208</td>\n",
       "      <td>$0.4170</td>\n",
       "      <td>$0.5648</td>\n",
       "      <td>32.61%</td>\n",
       "    </tr>\n",
       "    <tr>\n",
       "      <th>2</th>\n",
       "      <td>2020</td>\n",
       "      <td>$0.3127</td>\n",
       "      <td>$0.3524</td>\n",
       "      <td>$0.4259</td>\n",
       "      <td>$0.2499</td>\n",
       "      <td>$0.4259</td>\n",
       "      <td>22.70%</td>\n",
       "    </tr>\n",
       "    <tr>\n",
       "      <th>3</th>\n",
       "      <td>2019</td>\n",
       "      <td>$0.2932</td>\n",
       "      <td>$0.2818</td>\n",
       "      <td>$0.3534</td>\n",
       "      <td>$0.2661</td>\n",
       "      <td>$0.3471</td>\n",
       "      <td>24.90%</td>\n",
       "    </tr>\n",
       "    <tr>\n",
       "      <th>4</th>\n",
       "      <td>2018</td>\n",
       "      <td>$0.2993</td>\n",
       "      <td>$0.3355</td>\n",
       "      <td>$0.3390</td>\n",
       "      <td>$0.2696</td>\n",
       "      <td>$0.2779</td>\n",
       "      <td>-16.35%</td>\n",
       "    </tr>\n",
       "    <tr>\n",
       "      <th>...</th>\n",
       "      <td>...</td>\n",
       "      <td>...</td>\n",
       "      <td>...</td>\n",
       "      <td>...</td>\n",
       "      <td>...</td>\n",
       "      <td>...</td>\n",
       "      <td>...</td>\n",
       "    </tr>\n",
       "    <tr>\n",
       "      <th>57</th>\n",
       "      <td>1965</td>\n",
       "      <td>$0.1055</td>\n",
       "      <td>$0.1050</td>\n",
       "      <td>$0.1214</td>\n",
       "      <td>$0.0919</td>\n",
       "      <td>$0.1051</td>\n",
       "      <td>-3.93%</td>\n",
       "    </tr>\n",
       "    <tr>\n",
       "      <th>58</th>\n",
       "      <td>1964</td>\n",
       "      <td>$0.0900</td>\n",
       "      <td>$0.0827</td>\n",
       "      <td>$0.1232</td>\n",
       "      <td>$0.0756</td>\n",
       "      <td>$0.1094</td>\n",
       "      <td>31.97%</td>\n",
       "    </tr>\n",
       "    <tr>\n",
       "      <th>59</th>\n",
       "      <td>1963</td>\n",
       "      <td>$0.0896</td>\n",
       "      <td>$0.0863</td>\n",
       "      <td>$0.1025</td>\n",
       "      <td>$0.0765</td>\n",
       "      <td>$0.0829</td>\n",
       "      <td>-3.72%</td>\n",
       "    </tr>\n",
       "    <tr>\n",
       "      <th>60</th>\n",
       "      <td>1962</td>\n",
       "      <td>$0.0907</td>\n",
       "      <td>$0.1064</td>\n",
       "      <td>$0.1089</td>\n",
       "      <td>$0.0750</td>\n",
       "      <td>$0.0861</td>\n",
       "      <td>-18.85%</td>\n",
       "    </tr>\n",
       "    <tr>\n",
       "      <th>61</th>\n",
       "      <td>1961</td>\n",
       "      <td>$0.1102</td>\n",
       "      <td>$0.0946</td>\n",
       "      <td>$0.1278</td>\n",
       "      <td>$0.0944</td>\n",
       "      <td>$0.1061</td>\n",
       "      <td>13.84%</td>\n",
       "    </tr>\n",
       "  </tbody>\n",
       "</table>\n",
       "<p>62 rows × 7 columns</p>\n",
       "</div>"
      ],
      "text/plain": [
       "    Year Average\\nClosing Price Year Open Year High Year Low Year Close  \\\n",
       "0   2022                $0.7311   $0.5642   $0.8820  $0.5642    $0.7012   \n",
       "1   2021                $0.5775   $0.4213   $0.7208  $0.4170    $0.5648   \n",
       "2   2020                $0.3127   $0.3524   $0.4259  $0.2499    $0.4259   \n",
       "3   2019                $0.2932   $0.2818   $0.3534  $0.2661    $0.3471   \n",
       "4   2018                $0.2993   $0.3355   $0.3390  $0.2696    $0.2779   \n",
       "..   ...                    ...       ...       ...      ...        ...   \n",
       "57  1965                $0.1055   $0.1050   $0.1214  $0.0919    $0.1051   \n",
       "58  1964                $0.0900   $0.0827   $0.1232  $0.0756    $0.1094   \n",
       "59  1963                $0.0896   $0.0863   $0.1025  $0.0765    $0.0829   \n",
       "60  1962                $0.0907   $0.1064   $0.1089  $0.0750    $0.0861   \n",
       "61  1961                $0.1102   $0.0946   $0.1278  $0.0944    $0.1061   \n",
       "\n",
       "   Annual%Change  \n",
       "0         24.15%  \n",
       "1         32.61%  \n",
       "2         22.70%  \n",
       "3         24.90%  \n",
       "4        -16.35%  \n",
       "..           ...  \n",
       "57        -3.93%  \n",
       "58        31.97%  \n",
       "59        -3.72%  \n",
       "60       -18.85%  \n",
       "61        13.84%  \n",
       "\n",
       "[62 rows x 7 columns]"
      ]
     },
     "execution_count": 2,
     "metadata": {},
     "output_type": "execute_result"
    }
   ],
   "source": [
    "dataset = pd.read_csv('default.csv')\n",
    "\n",
    "df = pd.DataFrame(dataset)\n",
    "\n",
    "df"
   ]
  },
  {
   "cell_type": "code",
   "execution_count": 1,
   "id": "704a8f9f",
   "metadata": {},
   "outputs": [],
   "source": [
    "name = \"Bangladesh\"\n"
   ]
  },
  {
   "cell_type": "markdown",
   "id": "18740733",
   "metadata": {},
   "source": [
    "# Preprocessing"
   ]
  },
  {
   "cell_type": "code",
   "execution_count": 4,
   "id": "584555f9",
   "metadata": {},
   "outputs": [],
   "source": [
    "# remove unnecessary columns\n",
    "df = df.drop(\"Annual%Change\", axis=\"columns\")"
   ]
  },
  {
   "cell_type": "code",
   "execution_count": 5,
   "id": "34d9f602",
   "metadata": {},
   "outputs": [],
   "source": [
    "df = df.drop(\"Average\\nClosing Price\", axis=\"columns\")"
   ]
  },
  {
   "cell_type": "code",
   "execution_count": 6,
   "id": "4ce090af",
   "metadata": {},
   "outputs": [],
   "source": [
    "#rename columns\n",
    "\n",
    "df.rename(columns={\n",
    "    \"Year Open\" : \"Open\", \n",
    "    \"Year High\" : \"High\",\n",
    "    \"Year Low\" : \"Low\",\n",
    "    \"Year Close\": \"Close\"\n",
    "}, inplace=True)"
   ]
  },
  {
   "cell_type": "code",
   "execution_count": 7,
   "id": "eca99f4a",
   "metadata": {},
   "outputs": [
    {
     "name": "stdout",
     "output_type": "stream",
     "text": [
      "    Year    Open    High     Low   Close\n",
      "0   2022  0.5642  0.8820  0.5642  0.7012\n",
      "1   2021  0.4213  0.7208  0.4170  0.5648\n",
      "2   2020  0.3524  0.4259  0.2499  0.4259\n",
      "3   2019  0.2818  0.3534  0.2661  0.3471\n",
      "4   2018  0.3355  0.3390  0.2696  0.2779\n",
      "..   ...     ...     ...     ...     ...\n",
      "57  1965  0.1050  0.1214  0.0919  0.1051\n",
      "58  1964  0.0827  0.1232  0.0756  0.1094\n",
      "59  1963  0.0863  0.1025  0.0765  0.0829\n",
      "60  1962  0.1064  0.1089  0.0750  0.0861\n",
      "61  1961  0.0946  0.1278  0.0944  0.1061\n",
      "\n",
      "[62 rows x 5 columns]\n"
     ]
    }
   ],
   "source": [
    "#remove dollar symbol from dataframe\n",
    "\n",
    "cols_to_check = [\"Open\", \"High\", \"Low\", \"Close\"]\n",
    "\n",
    "for col in cols_to_check:\n",
    "    df[col] = df[col].apply(lambda x : float(x[1:]) if x.startswith(\"$\") else float(x))\n",
    "    \n",
    "print(df)"
   ]
  },
  {
   "cell_type": "code",
   "execution_count": 8,
   "id": "875729c4",
   "metadata": {},
   "outputs": [
    {
     "data": {
      "text/plain": [
       "Year       int64\n",
       "Open     float64\n",
       "High     float64\n",
       "Low      float64\n",
       "Close    float64\n",
       "dtype: object"
      ]
     },
     "execution_count": 8,
     "metadata": {},
     "output_type": "execute_result"
    }
   ],
   "source": [
    "df.dtypes"
   ]
  },
  {
   "cell_type": "code",
   "execution_count": 9,
   "id": "8f22ae84",
   "metadata": {},
   "outputs": [
    {
     "data": {
      "text/html": [
       "<div>\n",
       "<style scoped>\n",
       "    .dataframe tbody tr th:only-of-type {\n",
       "        vertical-align: middle;\n",
       "    }\n",
       "\n",
       "    .dataframe tbody tr th {\n",
       "        vertical-align: top;\n",
       "    }\n",
       "\n",
       "    .dataframe thead th {\n",
       "        text-align: right;\n",
       "    }\n",
       "</style>\n",
       "<table border=\"1\" class=\"dataframe\">\n",
       "  <thead>\n",
       "    <tr style=\"text-align: right;\">\n",
       "      <th></th>\n",
       "      <th>Year</th>\n",
       "      <th>Open</th>\n",
       "      <th>High</th>\n",
       "      <th>Low</th>\n",
       "      <th>Close</th>\n",
       "    </tr>\n",
       "  </thead>\n",
       "  <tbody>\n",
       "    <tr>\n",
       "      <th>0</th>\n",
       "      <td>2022</td>\n",
       "      <td>0.5642</td>\n",
       "      <td>0.8820</td>\n",
       "      <td>0.5642</td>\n",
       "      <td>0.7012</td>\n",
       "    </tr>\n",
       "    <tr>\n",
       "      <th>1</th>\n",
       "      <td>2021</td>\n",
       "      <td>0.4213</td>\n",
       "      <td>0.7208</td>\n",
       "      <td>0.4170</td>\n",
       "      <td>0.5648</td>\n",
       "    </tr>\n",
       "    <tr>\n",
       "      <th>2</th>\n",
       "      <td>2020</td>\n",
       "      <td>0.3524</td>\n",
       "      <td>0.4259</td>\n",
       "      <td>0.2499</td>\n",
       "      <td>0.4259</td>\n",
       "    </tr>\n",
       "    <tr>\n",
       "      <th>3</th>\n",
       "      <td>2019</td>\n",
       "      <td>0.2818</td>\n",
       "      <td>0.3534</td>\n",
       "      <td>0.2661</td>\n",
       "      <td>0.3471</td>\n",
       "    </tr>\n",
       "    <tr>\n",
       "      <th>4</th>\n",
       "      <td>2018</td>\n",
       "      <td>0.3355</td>\n",
       "      <td>0.3390</td>\n",
       "      <td>0.2696</td>\n",
       "      <td>0.2779</td>\n",
       "    </tr>\n",
       "    <tr>\n",
       "      <th>5</th>\n",
       "      <td>2017</td>\n",
       "      <td>0.3481</td>\n",
       "      <td>0.3607</td>\n",
       "      <td>0.3101</td>\n",
       "      <td>0.3322</td>\n",
       "    </tr>\n",
       "    <tr>\n",
       "      <th>6</th>\n",
       "      <td>2016</td>\n",
       "      <td>0.3012</td>\n",
       "      <td>0.3793</td>\n",
       "      <td>0.2918</td>\n",
       "      <td>0.3461</td>\n",
       "    </tr>\n",
       "    <tr>\n",
       "      <th>7</th>\n",
       "      <td>2015</td>\n",
       "      <td>0.3209</td>\n",
       "      <td>0.3478</td>\n",
       "      <td>0.2605</td>\n",
       "      <td>0.3071</td>\n",
       "    </tr>\n",
       "    <tr>\n",
       "      <th>8</th>\n",
       "      <td>2014</td>\n",
       "      <td>0.3880</td>\n",
       "      <td>0.4449</td>\n",
       "      <td>0.3128</td>\n",
       "      <td>0.3211</td>\n",
       "    </tr>\n",
       "    <tr>\n",
       "      <th>9</th>\n",
       "      <td>2013</td>\n",
       "      <td>0.5105</td>\n",
       "      <td>0.5311</td>\n",
       "      <td>0.3882</td>\n",
       "      <td>0.3907</td>\n",
       "    </tr>\n",
       "    <tr>\n",
       "      <th>10</th>\n",
       "      <td>2012</td>\n",
       "      <td>0.5311</td>\n",
       "      <td>0.5778</td>\n",
       "      <td>0.4702</td>\n",
       "      <td>0.4959</td>\n",
       "    </tr>\n",
       "    <tr>\n",
       "      <th>11</th>\n",
       "      <td>2011</td>\n",
       "      <td>0.5770</td>\n",
       "      <td>0.5977</td>\n",
       "      <td>0.4827</td>\n",
       "      <td>0.5235</td>\n",
       "    </tr>\n",
       "    <tr>\n",
       "      <th>12</th>\n",
       "      <td>2010</td>\n",
       "      <td>0.4129</td>\n",
       "      <td>0.5824</td>\n",
       "      <td>0.3599</td>\n",
       "      <td>0.5824</td>\n",
       "    </tr>\n",
       "  </tbody>\n",
       "</table>\n",
       "</div>"
      ],
      "text/plain": [
       "    Year    Open    High     Low   Close\n",
       "0   2022  0.5642  0.8820  0.5642  0.7012\n",
       "1   2021  0.4213  0.7208  0.4170  0.5648\n",
       "2   2020  0.3524  0.4259  0.2499  0.4259\n",
       "3   2019  0.2818  0.3534  0.2661  0.3471\n",
       "4   2018  0.3355  0.3390  0.2696  0.2779\n",
       "5   2017  0.3481  0.3607  0.3101  0.3322\n",
       "6   2016  0.3012  0.3793  0.2918  0.3461\n",
       "7   2015  0.3209  0.3478  0.2605  0.3071\n",
       "8   2014  0.3880  0.4449  0.3128  0.3211\n",
       "9   2013  0.5105  0.5311  0.3882  0.3907\n",
       "10  2012  0.5311  0.5778  0.4702  0.4959\n",
       "11  2011  0.5770  0.5977  0.4827  0.5235\n",
       "12  2010  0.4129  0.5824  0.3599  0.5824"
      ]
     },
     "execution_count": 9,
     "metadata": {},
     "output_type": "execute_result"
    }
   ],
   "source": [
    "# consider data of last 12 years\n",
    "\n",
    "df = df.head(13)\n",
    "\n",
    "df"
   ]
  },
  {
   "cell_type": "markdown",
   "id": "4abd6892",
   "metadata": {},
   "source": [
    "# Graph Plot"
   ]
  },
  {
   "cell_type": "code",
   "execution_count": 10,
   "id": "8f7c0e32",
   "metadata": {},
   "outputs": [
    {
     "data": {
      "image/png": "[encoded data removed]",
      "text/plain": [
       "<Figure size 432x288 with 1 Axes>"
      ]
     },
     "metadata": {
      "needs_background": "light"
     },
     "output_type": "display_data"
    }
   ],
   "source": [
    "X_axis = df[['Year']].to_numpy()\n",
    "Y_axis = df[['Open','Close']].to_numpy()\n",
    "\n",
    "plt.plot(X_axis, Y_axis)\n",
    "\n",
    "plt.title(\"Open vs Close Index\")\n",
    "plt.xlabel('Year')\n",
    "plt.ylabel('Index')\n",
    "\n",
    "plt.show()"
   ]
  },
  {
   "cell_type": "code",
   "execution_count": 11,
   "id": "8b65c6a8",
   "metadata": {},
   "outputs": [
    {
     "data": {
      "text/html": [
       "<div>\n",
       "<style scoped>\n",
       "    .dataframe tbody tr th:only-of-type {\n",
       "        vertical-align: middle;\n",
       "    }\n",
       "\n",
       "    .dataframe tbody tr th {\n",
       "        vertical-align: top;\n",
       "    }\n",
       "\n",
       "    .dataframe thead th {\n",
       "        text-align: right;\n",
       "    }\n",
       "</style>\n",
       "<table border=\"1\" class=\"dataframe\">\n",
       "  <thead>\n",
       "    <tr style=\"text-align: right;\">\n",
       "      <th></th>\n",
       "      <th>Open</th>\n",
       "      <th>High</th>\n",
       "      <th>Low</th>\n",
       "    </tr>\n",
       "  </thead>\n",
       "  <tbody>\n",
       "    <tr>\n",
       "      <th>0</th>\n",
       "      <td>0.5642</td>\n",
       "      <td>0.8820</td>\n",
       "      <td>0.5642</td>\n",
       "    </tr>\n",
       "    <tr>\n",
       "      <th>1</th>\n",
       "      <td>0.4213</td>\n",
       "      <td>0.7208</td>\n",
       "      <td>0.4170</td>\n",
       "    </tr>\n",
       "    <tr>\n",
       "      <th>2</th>\n",
       "      <td>0.3524</td>\n",
       "      <td>0.4259</td>\n",
       "      <td>0.2499</td>\n",
       "    </tr>\n",
       "    <tr>\n",
       "      <th>3</th>\n",
       "      <td>0.2818</td>\n",
       "      <td>0.3534</td>\n",
       "      <td>0.2661</td>\n",
       "    </tr>\n",
       "    <tr>\n",
       "      <th>4</th>\n",
       "      <td>0.3355</td>\n",
       "      <td>0.3390</td>\n",
       "      <td>0.2696</td>\n",
       "    </tr>\n",
       "    <tr>\n",
       "      <th>5</th>\n",
       "      <td>0.3481</td>\n",
       "      <td>0.3607</td>\n",
       "      <td>0.3101</td>\n",
       "    </tr>\n",
       "    <tr>\n",
       "      <th>6</th>\n",
       "      <td>0.3012</td>\n",
       "      <td>0.3793</td>\n",
       "      <td>0.2918</td>\n",
       "    </tr>\n",
       "    <tr>\n",
       "      <th>7</th>\n",
       "      <td>0.3209</td>\n",
       "      <td>0.3478</td>\n",
       "      <td>0.2605</td>\n",
       "    </tr>\n",
       "    <tr>\n",
       "      <th>8</th>\n",
       "      <td>0.3880</td>\n",
       "      <td>0.4449</td>\n",
       "      <td>0.3128</td>\n",
       "    </tr>\n",
       "    <tr>\n",
       "      <th>9</th>\n",
       "      <td>0.5105</td>\n",
       "      <td>0.5311</td>\n",
       "      <td>0.3882</td>\n",
       "    </tr>\n",
       "    <tr>\n",
       "      <th>10</th>\n",
       "      <td>0.5311</td>\n",
       "      <td>0.5778</td>\n",
       "      <td>0.4702</td>\n",
       "    </tr>\n",
       "    <tr>\n",
       "      <th>11</th>\n",
       "      <td>0.5770</td>\n",
       "      <td>0.5977</td>\n",
       "      <td>0.4827</td>\n",
       "    </tr>\n",
       "    <tr>\n",
       "      <th>12</th>\n",
       "      <td>0.4129</td>\n",
       "      <td>0.5824</td>\n",
       "      <td>0.3599</td>\n",
       "    </tr>\n",
       "  </tbody>\n",
       "</table>\n",
       "</div>"
      ],
      "text/plain": [
       "      Open    High     Low\n",
       "0   0.5642  0.8820  0.5642\n",
       "1   0.4213  0.7208  0.4170\n",
       "2   0.3524  0.4259  0.2499\n",
       "3   0.2818  0.3534  0.2661\n",
       "4   0.3355  0.3390  0.2696\n",
       "5   0.3481  0.3607  0.3101\n",
       "6   0.3012  0.3793  0.2918\n",
       "7   0.3209  0.3478  0.2605\n",
       "8   0.3880  0.4449  0.3128\n",
       "9   0.5105  0.5311  0.3882\n",
       "10  0.5311  0.5778  0.4702\n",
       "11  0.5770  0.5977  0.4827\n",
       "12  0.4129  0.5824  0.3599"
      ]
     },
     "execution_count": 11,
     "metadata": {},
     "output_type": "execute_result"
    }
   ],
   "source": [
    "data = df[['Open', 'High', 'Low']]\n",
    "data"
   ]
  },
  {
   "cell_type": "code",
   "execution_count": 12,
   "id": "2a9e46b7",
   "metadata": {},
   "outputs": [],
   "source": [
    "X = data.to_numpy()\n",
    "#X"
   ]
  },
  {
   "cell_type": "code",
   "execution_count": 13,
   "id": "8ee15ffb",
   "metadata": {},
   "outputs": [],
   "source": [
    "y = df[[\"Close\"]].to_numpy()\n",
    "#y"
   ]
  },
  {
   "cell_type": "markdown",
   "id": "9b31af82",
   "metadata": {},
   "source": [
    "# ANN from scratch with Back Propagation Algorithm\n",
    "\n",
    "> <b>Back propagation is an algorithm that depends on `mean square error` to optimize the accuracy with sigmoid function.</b>\n",
    "\n",
    "<b>sigmoid function:</b> \n",
    "```\n",
    "S(x) = \\frac {1}{1+e^{-x}}\n",
    "S(x) = sigmoid function\n",
    "e    = Euler's number\n",
    "```"
   ]
  },
  {
   "cell_type": "code",
   "execution_count": 14,
   "id": "d15cba46",
   "metadata": {},
   "outputs": [],
   "source": [
    "class NeuralNetwork(object):\n",
    "    def __init__(self, hiddenLayer):\n",
    "        #parameters\n",
    "        self.inputSize = 3\n",
    "        self.outputSize = 1\n",
    "        self.hiddenSize = hiddenLayer\n",
    "        \n",
    "        #weights\n",
    "        self.W1 = np.random.randn(self.inputSize, self.hiddenSize) # (3x2) weight matrix from input to hidden layer\n",
    "        self.W2 = np.random.randn(self.hiddenSize, self.outputSize) # (2x1) weight matrix from hidden to output layer\n",
    "        \n",
    "    def feedForward(self, X):\n",
    "        #forward propogation through the network\n",
    "        self.z = np.dot(X, self.W1) #dot product of X (input) and first set of weights (3x2)\n",
    "        self.z2 = self.sigmoid(self.z) #activation function\n",
    "        self.z3 = np.dot(self.z2, self.W2) #dot product of hidden layer (z2) and second set of weights (3x1)\n",
    "        output = self.sigmoid(self.z3)\n",
    "        return output\n",
    "        \n",
    "    def sigmoid(self, s, deriv=False):\n",
    "        if (deriv == True):\n",
    "            return s * (1 - s)\n",
    "        return 1/(1 + np.exp(-s))\n",
    "    \n",
    "    def backward(self, X, y, output):\n",
    "        #backward propogate through the network\n",
    "        self.output_error = y - output # error in output\n",
    "        self.output_delta = self.output_error * self.sigmoid(output, deriv=True)\n",
    "        \n",
    "        self.z2_error = self.output_delta.dot(self.W2.T) #z2 error: how much our hidden layer weights contribute to output error\n",
    "        self.z2_delta = self.z2_error * self.sigmoid(self.z2, deriv=True) #applying derivative of sigmoid to z2 error\n",
    "        \n",
    "        self.W1 += X.T.dot(self.z2_delta) # adjusting first set (input -> hidden) weights\n",
    "        self.W2 += self.z2.T.dot(self.output_delta) # adjusting second set (hidden -> output) weights\n",
    "        \n",
    "    def train(self, X, y):\n",
    "        output = self.feedForward(X)\n",
    "        self.backward(X, y, output)\n",
    "    "
   ]
  },
  {
   "cell_type": "code",
   "execution_count": 15,
   "id": "80129e4a",
   "metadata": {},
   "outputs": [],
   "source": [
    "def test(hiddenLayer):\n",
    "    NN = NeuralNetwork(hiddenLayer)\n",
    "\n",
    "    epoch = 1000\n",
    "\n",
    "    for i in range(epoch): #trains the NN 1000 times\n",
    "        if (i % 100 == 0):\n",
    "            print(\"Loss: \" + str(np.mean(np.square(y - NN.feedForward(X)))))\n",
    "        NN.train(X, y)"
   ]
  },
  {
   "cell_type": "code",
   "execution_count": 16,
   "id": "d1c8bb65",
   "metadata": {},
   "outputs": [
    {
     "name": "stdout",
     "output_type": "stream",
     "text": [
      "Loss: 0.09190161234203281\n",
      "Loss: 0.007888574941415443\n",
      "Loss: 0.0032954334437021796\n",
      "Loss: 0.0020628215362258587\n",
      "Loss: 0.0017374472599685205\n",
      "Loss: 0.001633340391269266\n",
      "Loss: 0.001592434018793621\n",
      "Loss: 0.0015739379806076377\n",
      "Loss: 0.0015647491836531266\n",
      "Loss: 0.0015596700074340468\n"
     ]
    }
   ],
   "source": [
    "test(hiddenLayer = 4)"
   ]
  },
  {
   "cell_type": "markdown",
   "id": "5419c4bb",
   "metadata": {},
   "source": [
    "# Accuracy & MSE(Mean Square Error)"
   ]
  },
  {
   "cell_type": "code",
   "execution_count": 17,
   "id": "157d32a8",
   "metadata": {},
   "outputs": [],
   "source": [
    "# Dividing the dataset into target variable and features\n",
    "X=df[['Open', 'High', 'Low']].to_numpy()\n",
    "y=df[['Close']].to_numpy()"
   ]
  },
  {
   "cell_type": "code",
   "execution_count": 18,
   "id": "22be4843",
   "metadata": {},
   "outputs": [],
   "source": [
    "X_train, X_test, y_train, y_test = train_test_split(X, y, test_size=10, random_state=4)"
   ]
  },
  {
   "cell_type": "code",
   "execution_count": 19,
   "id": "dd98611d",
   "metadata": {},
   "outputs": [],
   "source": [
    "learning_rate = 0.1\n",
    "iterations = 50\n",
    "N = y_train.size\n",
    " \n",
    "# Input features\n",
    "input_size = 3\n",
    " \n",
    "# Hidden layers \n",
    "hidden_size = 2\n",
    " \n",
    "# Output layer\n",
    "output_size = 1 \n",
    " \n",
    "results = pd.DataFrame(columns=[\"mse\", \"accuracy\"])"
   ]
  },
  {
   "cell_type": "code",
   "execution_count": 20,
   "id": "972c8906",
   "metadata": {},
   "outputs": [],
   "source": [
    "np.random.seed(10)\n",
    "\n",
    "# Hidden layer\n",
    "W1 = np.random.normal(scale=0.5, size=(input_size, hidden_size))   \n",
    " \n",
    "# Output layer\n",
    "W2 = np.random.normal(scale=0.5, size=(hidden_size , output_size)) "
   ]
  },
  {
   "cell_type": "markdown",
   "id": "6054372f",
   "metadata": {},
   "source": [
    "# necessary functions"
   ]
  },
  {
   "cell_type": "code",
   "execution_count": 21,
   "id": "cf34a3ce",
   "metadata": {},
   "outputs": [],
   "source": [
    "def sigmoid(x):\n",
    "    return 1 / (1 + np.exp(-x))\n",
    " \n",
    "def mean_squared_error(y_pred, y_true):\n",
    "    return ((y_pred - y_true)**2).sum() / (2*y_pred.size)\n",
    "     \n",
    "def accuracy(y_pred, y_true):\n",
    "    acc = y_pred.argmax(axis=1) == y_true.argmax(axis=1)\n",
    "    return acc.mean()\n"
   ]
  },
  {
   "cell_type": "markdown",
   "id": "6c54443c",
   "metadata": {},
   "source": [
    "# model validation"
   ]
  },
  {
   "cell_type": "code",
   "execution_count": 22,
   "id": "3a248f0e",
   "metadata": {},
   "outputs": [
    {
     "name": "stderr",
     "output_type": "stream",
     "text": [
      "/var/folders/b4/9xgk8tdx4xq75mxznw0prk7c0000gp/T/ipykernel_20647/2315709744.py:15: FutureWarning: The frame.append method is deprecated and will be removed from pandas in a future version. Use pandas.concat instead.\n",
      "  results=results.append({\"mse\":mse, \"accuracy\":acc},ignore_index=True )\n",
      "/var/folders/b4/9xgk8tdx4xq75mxznw0prk7c0000gp/T/ipykernel_20647/2315709744.py:15: FutureWarning: The frame.append method is deprecated and will be removed from pandas in a future version. Use pandas.concat instead.\n",
      "  results=results.append({\"mse\":mse, \"accuracy\":acc},ignore_index=True )\n",
      "/var/folders/b4/9xgk8tdx4xq75mxznw0prk7c0000gp/T/ipykernel_20647/2315709744.py:15: FutureWarning: The frame.append method is deprecated and will be removed from pandas in a future version. Use pandas.concat instead.\n",
      "  results=results.append({\"mse\":mse, \"accuracy\":acc},ignore_index=True )\n",
      "/var/folders/b4/9xgk8tdx4xq75mxznw0prk7c0000gp/T/ipykernel_20647/2315709744.py:15: FutureWarning: The frame.append method is deprecated and will be removed from pandas in a future version. Use pandas.concat instead.\n",
      "  results=results.append({\"mse\":mse, \"accuracy\":acc},ignore_index=True )\n",
      "/var/folders/b4/9xgk8tdx4xq75mxznw0prk7c0000gp/T/ipykernel_20647/2315709744.py:15: FutureWarning: The frame.append method is deprecated and will be removed from pandas in a future version. Use pandas.concat instead.\n",
      "  results=results.append({\"mse\":mse, \"accuracy\":acc},ignore_index=True )\n",
      "/var/folders/b4/9xgk8tdx4xq75mxznw0prk7c0000gp/T/ipykernel_20647/2315709744.py:15: FutureWarning: The frame.append method is deprecated and will be removed from pandas in a future version. Use pandas.concat instead.\n",
      "  results=results.append({\"mse\":mse, \"accuracy\":acc},ignore_index=True )\n",
      "/var/folders/b4/9xgk8tdx4xq75mxznw0prk7c0000gp/T/ipykernel_20647/2315709744.py:15: FutureWarning: The frame.append method is deprecated and will be removed from pandas in a future version. Use pandas.concat instead.\n",
      "  results=results.append({\"mse\":mse, \"accuracy\":acc},ignore_index=True )\n",
      "/var/folders/b4/9xgk8tdx4xq75mxznw0prk7c0000gp/T/ipykernel_20647/2315709744.py:15: FutureWarning: The frame.append method is deprecated and will be removed from pandas in a future version. Use pandas.concat instead.\n",
      "  results=results.append({\"mse\":mse, \"accuracy\":acc},ignore_index=True )\n",
      "/var/folders/b4/9xgk8tdx4xq75mxznw0prk7c0000gp/T/ipykernel_20647/2315709744.py:15: FutureWarning: The frame.append method is deprecated and will be removed from pandas in a future version. Use pandas.concat instead.\n",
      "  results=results.append({\"mse\":mse, \"accuracy\":acc},ignore_index=True )\n",
      "/var/folders/b4/9xgk8tdx4xq75mxznw0prk7c0000gp/T/ipykernel_20647/2315709744.py:15: FutureWarning: The frame.append method is deprecated and will be removed from pandas in a future version. Use pandas.concat instead.\n",
      "  results=results.append({\"mse\":mse, \"accuracy\":acc},ignore_index=True )\n",
      "/var/folders/b4/9xgk8tdx4xq75mxznw0prk7c0000gp/T/ipykernel_20647/2315709744.py:15: FutureWarning: The frame.append method is deprecated and will be removed from pandas in a future version. Use pandas.concat instead.\n",
      "  results=results.append({\"mse\":mse, \"accuracy\":acc},ignore_index=True )\n",
      "/var/folders/b4/9xgk8tdx4xq75mxznw0prk7c0000gp/T/ipykernel_20647/2315709744.py:15: FutureWarning: The frame.append method is deprecated and will be removed from pandas in a future version. Use pandas.concat instead.\n",
      "  results=results.append({\"mse\":mse, \"accuracy\":acc},ignore_index=True )\n",
      "/var/folders/b4/9xgk8tdx4xq75mxznw0prk7c0000gp/T/ipykernel_20647/2315709744.py:15: FutureWarning: The frame.append method is deprecated and will be removed from pandas in a future version. Use pandas.concat instead.\n",
      "  results=results.append({\"mse\":mse, \"accuracy\":acc},ignore_index=True )\n",
      "/var/folders/b4/9xgk8tdx4xq75mxznw0prk7c0000gp/T/ipykernel_20647/2315709744.py:15: FutureWarning: The frame.append method is deprecated and will be removed from pandas in a future version. Use pandas.concat instead.\n",
      "  results=results.append({\"mse\":mse, \"accuracy\":acc},ignore_index=True )\n",
      "/var/folders/b4/9xgk8tdx4xq75mxznw0prk7c0000gp/T/ipykernel_20647/2315709744.py:15: FutureWarning: The frame.append method is deprecated and will be removed from pandas in a future version. Use pandas.concat instead.\n",
      "  results=results.append({\"mse\":mse, \"accuracy\":acc},ignore_index=True )\n",
      "/var/folders/b4/9xgk8tdx4xq75mxznw0prk7c0000gp/T/ipykernel_20647/2315709744.py:15: FutureWarning: The frame.append method is deprecated and will be removed from pandas in a future version. Use pandas.concat instead.\n",
      "  results=results.append({\"mse\":mse, \"accuracy\":acc},ignore_index=True )\n",
      "/var/folders/b4/9xgk8tdx4xq75mxznw0prk7c0000gp/T/ipykernel_20647/2315709744.py:15: FutureWarning: The frame.append method is deprecated and will be removed from pandas in a future version. Use pandas.concat instead.\n",
      "  results=results.append({\"mse\":mse, \"accuracy\":acc},ignore_index=True )\n",
      "/var/folders/b4/9xgk8tdx4xq75mxznw0prk7c0000gp/T/ipykernel_20647/2315709744.py:15: FutureWarning: The frame.append method is deprecated and will be removed from pandas in a future version. Use pandas.concat instead.\n",
      "  results=results.append({\"mse\":mse, \"accuracy\":acc},ignore_index=True )\n",
      "/var/folders/b4/9xgk8tdx4xq75mxznw0prk7c0000gp/T/ipykernel_20647/2315709744.py:15: FutureWarning: The frame.append method is deprecated and will be removed from pandas in a future version. Use pandas.concat instead.\n",
      "  results=results.append({\"mse\":mse, \"accuracy\":acc},ignore_index=True )\n",
      "/var/folders/b4/9xgk8tdx4xq75mxznw0prk7c0000gp/T/ipykernel_20647/2315709744.py:15: FutureWarning: The frame.append method is deprecated and will be removed from pandas in a future version. Use pandas.concat instead.\n",
      "  results=results.append({\"mse\":mse, \"accuracy\":acc},ignore_index=True )\n",
      "/var/folders/b4/9xgk8tdx4xq75mxznw0prk7c0000gp/T/ipykernel_20647/2315709744.py:15: FutureWarning: The frame.append method is deprecated and will be removed from pandas in a future version. Use pandas.concat instead.\n",
      "  results=results.append({\"mse\":mse, \"accuracy\":acc},ignore_index=True )\n",
      "/var/folders/b4/9xgk8tdx4xq75mxznw0prk7c0000gp/T/ipykernel_20647/2315709744.py:15: FutureWarning: The frame.append method is deprecated and will be removed from pandas in a future version. Use pandas.concat instead.\n",
      "  results=results.append({\"mse\":mse, \"accuracy\":acc},ignore_index=True )\n",
      "/var/folders/b4/9xgk8tdx4xq75mxznw0prk7c0000gp/T/ipykernel_20647/2315709744.py:15: FutureWarning: The frame.append method is deprecated and will be removed from pandas in a future version. Use pandas.concat instead.\n",
      "  results=results.append({\"mse\":mse, \"accuracy\":acc},ignore_index=True )\n",
      "/var/folders/b4/9xgk8tdx4xq75mxznw0prk7c0000gp/T/ipykernel_20647/2315709744.py:15: FutureWarning: The frame.append method is deprecated and will be removed from pandas in a future version. Use pandas.concat instead.\n",
      "  results=results.append({\"mse\":mse, \"accuracy\":acc},ignore_index=True )\n",
      "/var/folders/b4/9xgk8tdx4xq75mxznw0prk7c0000gp/T/ipykernel_20647/2315709744.py:15: FutureWarning: The frame.append method is deprecated and will be removed from pandas in a future version. Use pandas.concat instead.\n",
      "  results=results.append({\"mse\":mse, \"accuracy\":acc},ignore_index=True )\n",
      "/var/folders/b4/9xgk8tdx4xq75mxznw0prk7c0000gp/T/ipykernel_20647/2315709744.py:15: FutureWarning: The frame.append method is deprecated and will be removed from pandas in a future version. Use pandas.concat instead.\n",
      "  results=results.append({\"mse\":mse, \"accuracy\":acc},ignore_index=True )\n",
      "/var/folders/b4/9xgk8tdx4xq75mxznw0prk7c0000gp/T/ipykernel_20647/2315709744.py:15: FutureWarning: The frame.append method is deprecated and will be removed from pandas in a future version. Use pandas.concat instead.\n",
      "  results=results.append({\"mse\":mse, \"accuracy\":acc},ignore_index=True )\n",
      "/var/folders/b4/9xgk8tdx4xq75mxznw0prk7c0000gp/T/ipykernel_20647/2315709744.py:15: FutureWarning: The frame.append method is deprecated and will be removed from pandas in a future version. Use pandas.concat instead.\n",
      "  results=results.append({\"mse\":mse, \"accuracy\":acc},ignore_index=True )\n",
      "/var/folders/b4/9xgk8tdx4xq75mxznw0prk7c0000gp/T/ipykernel_20647/2315709744.py:15: FutureWarning: The frame.append method is deprecated and will be removed from pandas in a future version. Use pandas.concat instead.\n",
      "  results=results.append({\"mse\":mse, \"accuracy\":acc},ignore_index=True )\n",
      "/var/folders/b4/9xgk8tdx4xq75mxznw0prk7c0000gp/T/ipykernel_20647/2315709744.py:15: FutureWarning: The frame.append method is deprecated and will be removed from pandas in a future version. Use pandas.concat instead.\n",
      "  results=results.append({\"mse\":mse, \"accuracy\":acc},ignore_index=True )\n",
      "/var/folders/b4/9xgk8tdx4xq75mxznw0prk7c0000gp/T/ipykernel_20647/2315709744.py:15: FutureWarning: The frame.append method is deprecated and will be removed from pandas in a future version. Use pandas.concat instead.\n",
      "  results=results.append({\"mse\":mse, \"accuracy\":acc},ignore_index=True )\n",
      "/var/folders/b4/9xgk8tdx4xq75mxznw0prk7c0000gp/T/ipykernel_20647/2315709744.py:15: FutureWarning: The frame.append method is deprecated and will be removed from pandas in a future version. Use pandas.concat instead.\n",
      "  results=results.append({\"mse\":mse, \"accuracy\":acc},ignore_index=True )\n",
      "/var/folders/b4/9xgk8tdx4xq75mxznw0prk7c0000gp/T/ipykernel_20647/2315709744.py:15: FutureWarning: The frame.append method is deprecated and will be removed from pandas in a future version. Use pandas.concat instead.\n",
      "  results=results.append({\"mse\":mse, \"accuracy\":acc},ignore_index=True )\n",
      "/var/folders/b4/9xgk8tdx4xq75mxznw0prk7c0000gp/T/ipykernel_20647/2315709744.py:15: FutureWarning: The frame.append method is deprecated and will be removed from pandas in a future version. Use pandas.concat instead.\n",
      "  results=results.append({\"mse\":mse, \"accuracy\":acc},ignore_index=True )\n",
      "/var/folders/b4/9xgk8tdx4xq75mxznw0prk7c0000gp/T/ipykernel_20647/2315709744.py:15: FutureWarning: The frame.append method is deprecated and will be removed from pandas in a future version. Use pandas.concat instead.\n",
      "  results=results.append({\"mse\":mse, \"accuracy\":acc},ignore_index=True )\n",
      "/var/folders/b4/9xgk8tdx4xq75mxznw0prk7c0000gp/T/ipykernel_20647/2315709744.py:15: FutureWarning: The frame.append method is deprecated and will be removed from pandas in a future version. Use pandas.concat instead.\n",
      "  results=results.append({\"mse\":mse, \"accuracy\":acc},ignore_index=True )\n",
      "/var/folders/b4/9xgk8tdx4xq75mxznw0prk7c0000gp/T/ipykernel_20647/2315709744.py:15: FutureWarning: The frame.append method is deprecated and will be removed from pandas in a future version. Use pandas.concat instead.\n",
      "  results=results.append({\"mse\":mse, \"accuracy\":acc},ignore_index=True )\n",
      "/var/folders/b4/9xgk8tdx4xq75mxznw0prk7c0000gp/T/ipykernel_20647/2315709744.py:15: FutureWarning: The frame.append method is deprecated and will be removed from pandas in a future version. Use pandas.concat instead.\n",
      "  results=results.append({\"mse\":mse, \"accuracy\":acc},ignore_index=True )\n",
      "/var/folders/b4/9xgk8tdx4xq75mxznw0prk7c0000gp/T/ipykernel_20647/2315709744.py:15: FutureWarning: The frame.append method is deprecated and will be removed from pandas in a future version. Use pandas.concat instead.\n",
      "  results=results.append({\"mse\":mse, \"accuracy\":acc},ignore_index=True )\n",
      "/var/folders/b4/9xgk8tdx4xq75mxznw0prk7c0000gp/T/ipykernel_20647/2315709744.py:15: FutureWarning: The frame.append method is deprecated and will be removed from pandas in a future version. Use pandas.concat instead.\n",
      "  results=results.append({\"mse\":mse, \"accuracy\":acc},ignore_index=True )\n",
      "/var/folders/b4/9xgk8tdx4xq75mxznw0prk7c0000gp/T/ipykernel_20647/2315709744.py:15: FutureWarning: The frame.append method is deprecated and will be removed from pandas in a future version. Use pandas.concat instead.\n",
      "  results=results.append({\"mse\":mse, \"accuracy\":acc},ignore_index=True )\n",
      "/var/folders/b4/9xgk8tdx4xq75mxznw0prk7c0000gp/T/ipykernel_20647/2315709744.py:15: FutureWarning: The frame.append method is deprecated and will be removed from pandas in a future version. Use pandas.concat instead.\n",
      "  results=results.append({\"mse\":mse, \"accuracy\":acc},ignore_index=True )\n",
      "/var/folders/b4/9xgk8tdx4xq75mxznw0prk7c0000gp/T/ipykernel_20647/2315709744.py:15: FutureWarning: The frame.append method is deprecated and will be removed from pandas in a future version. Use pandas.concat instead.\n",
      "  results=results.append({\"mse\":mse, \"accuracy\":acc},ignore_index=True )\n",
      "/var/folders/b4/9xgk8tdx4xq75mxznw0prk7c0000gp/T/ipykernel_20647/2315709744.py:15: FutureWarning: The frame.append method is deprecated and will be removed from pandas in a future version. Use pandas.concat instead.\n",
      "  results=results.append({\"mse\":mse, \"accuracy\":acc},ignore_index=True )\n",
      "/var/folders/b4/9xgk8tdx4xq75mxznw0prk7c0000gp/T/ipykernel_20647/2315709744.py:15: FutureWarning: The frame.append method is deprecated and will be removed from pandas in a future version. Use pandas.concat instead.\n",
      "  results=results.append({\"mse\":mse, \"accuracy\":acc},ignore_index=True )\n",
      "/var/folders/b4/9xgk8tdx4xq75mxznw0prk7c0000gp/T/ipykernel_20647/2315709744.py:15: FutureWarning: The frame.append method is deprecated and will be removed from pandas in a future version. Use pandas.concat instead.\n",
      "  results=results.append({\"mse\":mse, \"accuracy\":acc},ignore_index=True )\n",
      "/var/folders/b4/9xgk8tdx4xq75mxznw0prk7c0000gp/T/ipykernel_20647/2315709744.py:15: FutureWarning: The frame.append method is deprecated and will be removed from pandas in a future version. Use pandas.concat instead.\n",
      "  results=results.append({\"mse\":mse, \"accuracy\":acc},ignore_index=True )\n",
      "/var/folders/b4/9xgk8tdx4xq75mxznw0prk7c0000gp/T/ipykernel_20647/2315709744.py:15: FutureWarning: The frame.append method is deprecated and will be removed from pandas in a future version. Use pandas.concat instead.\n",
      "  results=results.append({\"mse\":mse, \"accuracy\":acc},ignore_index=True )\n",
      "/var/folders/b4/9xgk8tdx4xq75mxznw0prk7c0000gp/T/ipykernel_20647/2315709744.py:15: FutureWarning: The frame.append method is deprecated and will be removed from pandas in a future version. Use pandas.concat instead.\n",
      "  results=results.append({\"mse\":mse, \"accuracy\":acc},ignore_index=True )\n",
      "/var/folders/b4/9xgk8tdx4xq75mxznw0prk7c0000gp/T/ipykernel_20647/2315709744.py:15: FutureWarning: The frame.append method is deprecated and will be removed from pandas in a future version. Use pandas.concat instead.\n",
      "  results=results.append({\"mse\":mse, \"accuracy\":acc},ignore_index=True )\n"
     ]
    }
   ],
   "source": [
    "for itr in range(iterations):    \n",
    "     \n",
    "    # Implementing feedforward propagation on hidden layer\n",
    "    Z1 = np.dot(X_train, W1)\n",
    "    A1 = sigmoid(Z1)\n",
    " \n",
    "    # Implementing feed forward propagation on output layer\n",
    "    Z2 = np.dot(A1, W2)\n",
    "    A2 = sigmoid(Z2)\n",
    "     \n",
    "     \n",
    "    # Calculating the error\n",
    "    mse = mean_squared_error(A2, y_train)\n",
    "    acc = accuracy(A2, y_train)\n",
    "    results=results.append({\"mse\":mse, \"accuracy\":acc},ignore_index=True )\n",
    "     \n",
    "    # Backpropagation phase\n",
    "    E1 = A2 - y_train\n",
    "    dW1 = E1 * A2 * (1 - A2)\n",
    " \n",
    "    E2 = np.dot(dW1, W2.T)\n",
    "    dW2 = E2 * A1 * (1 - A1)\n",
    " \n",
    "    # Updating the weights\n",
    "    W2_update = np.dot(A1.T, dW1) / N\n",
    "    W1_update = np.dot(X_train.T, dW2) / N\n",
    " \n",
    "    W2 = W2 - learning_rate * W2_update\n",
    "    W1 = W1 - learning_rate * W1_update"
   ]
  },
  {
   "cell_type": "markdown",
   "id": "32b2adb1",
   "metadata": {},
   "source": [
    "# Graph Plotting"
   ]
  },
  {
   "cell_type": "code",
   "execution_count": 23,
   "id": "3811ab07",
   "metadata": {},
   "outputs": [
    {
     "data": {
      "text/plain": [
       "<AxesSubplot:title={'center':'Mean Squared Error'}>"
      ]
     },
     "execution_count": 23,
     "metadata": {},
     "output_type": "execute_result"
    },
    {
     "data": {
      "image/png": "[encoded data removed]",
      "text/plain": [
       "<Figure size 432x288 with 1 Axes>"
      ]
     },
     "metadata": {
      "needs_background": "light"
     },
     "output_type": "display_data"
    }
   ],
   "source": [
    "results.mse.plot(title=\"Mean Squared Error\")"
   ]
  },
  {
   "cell_type": "code",
   "execution_count": 24,
   "id": "b7bb06b6",
   "metadata": {},
   "outputs": [
    {
     "data": {
      "text/plain": [
       "<AxesSubplot:title={'center':'Accuracy'}>"
      ]
     },
     "execution_count": 24,
     "metadata": {},
     "output_type": "execute_result"
    },
    {
     "data": {
      "image/png": "[encoded data removed]",
      "text/plain": [
       "<Figure size 432x288 with 1 Axes>"
      ]
     },
     "metadata": {
      "needs_background": "light"
     },
     "output_type": "display_data"
    }
   ],
   "source": [
    "results.accuracy.plot(title=\"Accuracy\")"
   ]
  },
  {
   "cell_type": "code",
   "execution_count": 25,
   "id": "6fb3e525",
   "metadata": {},
   "outputs": [
    {
     "name": "stdout",
     "output_type": "stream",
     "text": [
      "Accuracy: 1.0\n"
     ]
    }
   ],
   "source": [
    "Z1 = np.dot(X_test, W1)\n",
    "A1 = sigmoid(Z1)\n",
    " \n",
    "Z2 = np.dot(A1, W2)\n",
    "A2 = sigmoid(Z2)\n",
    " \n",
    "acc = accuracy(A2, y_test)\n",
    "print(\"Accuracy: {}\".format(acc))"
   ]
  },
  {
   "cell_type": "markdown",
   "id": "cde2bf62",
   "metadata": {},
   "source": [
    "You can see the accuracy of the model have been significantly increased to 100%.\n"
   ]
  }
 ],
 "metadata": {
  "kernelspec": {
   "display_name": "Python 3 (ipykernel)",
   "language": "python",
   "name": "python3"
  },
  "language_info": {
   "codemirror_mode": {
    "name": "ipython",
    "version": 3
   },
   "file_extension": ".py",
   "mimetype": "text/x-python",
   "name": "python",
   "nbconvert_exporter": "python",
   "pygments_lexer": "ipython3",
   "version": "3.9.13"
  }
 },
 "nbformat": 4,
 "nbformat_minor": 5
}
